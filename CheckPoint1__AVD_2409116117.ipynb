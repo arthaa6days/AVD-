{
  "nbformat": 4,
  "nbformat_minor": 0,
  "metadata": {
    "colab": {
      "provenance": []
    },
    "kernelspec": {
      "name": "python3",
      "display_name": "Python 3"
    },
    "language_info": {
      "name": "python"
    }
  },
  "cells": [
    {
      "cell_type": "markdown",
      "source": [
        "#Bussines Understanding\n"
      ],
      "metadata": {
        "id": "hFzPqiDvDpJs"
      }
    },
    {
      "cell_type": "markdown",
      "source": [
        "#Bussines objective\n"
      ],
      "metadata": {
        "id": "LwSKKR9IFpJj"
      }
    },
    {
      "cell_type": "markdown",
      "source": [
        "Inflasi dan indikator ekonomi lainnya memiliki dampak besar terhadap kebijakan ekonomi, bisnis, dan kesejahteraan masyarakat. Tujuan dari proyek ini adalah untuk menganalisa data ekonomi dan inflasi untuk memberikan wawasan yang dapat membantu pengambilan keputusan bagi pemangku kepentingan, seperti pemerintah, investor, dan pelaku bisnis. Dengan memahami tren inflasi dan indikator ekonomi lainnya, organisasi dapat membuat strategi yang lebih baik dalam menghadapi perubahan ekonomi."
      ],
      "metadata": {
        "id": "5S6lkwvDEEhZ"
      }
    },
    {
      "cell_type": "markdown",
      "source": [
        "#Asses Situation"
      ],
      "metadata": {
        "id": "LSz_L3-SGDhp"
      }
    },
    {
      "cell_type": "markdown",
      "source": [
        "Inflasi yang tidak terkendali dapat menyebabkan ketidakstabilan ekonomi dan menurunkan daya beli masyarakat. Investor, pelaku bisnis, dan pemerintah memerlukan analisis tren ekonomi untuk membuat keputusan yang lebih baik. Dataset Economic Indicators and Inflation dari Kaggle akan digunakan dengan alat seperti Python dan Pandas untuk analisis. Tantangan utama dalam proyek ini adalah menangani missing values, outliers, serta pengaruh faktor eksternal seperti kebijakan pemerintah dan kondisi geopolitik"
      ],
      "metadata": {
        "id": "97plv4T-GwMU"
      }
    },
    {
      "cell_type": "markdown",
      "source": [
        "#Data Mining"
      ],
      "metadata": {
        "id": "LS5rdZo7IA4u"
      }
    },
    {
      "cell_type": "markdown",
      "source": [
        "Proyek ini bertujuan untuk menganalisis tren inflasi dan mengidentifikasi korelasi dengan faktor ekonomi lainnya seperti banyaknya pengangguran,bunga pinjaman, dan pertumbuhan GDP. Selain itu, akan dikembangkan model prediksi inflasi berdasarkan data historis guna membantu pengambilan keputusan yang lebih akurat bagi pemerintah dan pelaku bisnis."
      ],
      "metadata": {
        "id": "D6vHX3NdIGf3"
      }
    },
    {
      "cell_type": "markdown",
      "source": [
        "#Project Plan"
      ],
      "metadata": {
        "id": "ocWONkW-IiON"
      }
    },
    {
      "cell_type": "markdown",
      "source": [
        "1.Pengumpulan Data\n",
        "Mengunduh dataset dari Kaggle dan melakukan eksplorasi awal.\n",
        "\n",
        "2.Persiapan Data\n",
        "Membersihkan data, menangani nilai yang hilang, dan melakukan normalisasi jika diperlukan.\n",
        "Melakukan eksplorasi data dengan analisis statistik dan visualisasi.\n",
        "\n",
        "3.Analisis Data\n",
        "Mengidentifikasi pola dan tren inflasi berdasarkan indikator ekonomi.\n",
        "Menganalisis korelasi antara inflasi dan faktor ekonomi lainnya.\n",
        "\n",
        "4.Pengembangan Model\n",
        "Menggunakan metode statistik atau model Machine Learning untuk memprediksi inflasi.\n",
        "Mengevaluasi performa model dengan metrik yang relevan.\n",
        "\n",
        "5.Interpretasi Hasil dan Penyusunan Laporan\n",
        "Menyajikan hasil analisis dalam bentuk laporan dan dashboard visual.\n",
        "Memberikan rekomendasi berdasarkan hasil analisis.\n"
      ],
      "metadata": {
        "id": "ZhDPVcS9I9Zo"
      }
    }
  ]
}